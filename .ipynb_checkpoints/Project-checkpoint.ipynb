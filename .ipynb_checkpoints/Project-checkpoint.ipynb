{
 "cells": [
  {
   "cell_type": "code",
   "execution_count": 1,
   "metadata": {
    "collapsed": false,
    "scrolled": true
   },
   "outputs": [
    {
     "name": "stdout",
     "output_type": "stream",
     "text": [
      "          fileid                                            SUMMARY  \\\n",
      "1  2015561341001  Mom wants to know if the Focalin needs some do...   \n",
      "2  2015561351001  pt called to discuss nortryptiline. she says s...   \n",
      "\n",
      "                                                DATA    categories  \\\n",
      "1  {\\rtf1\\ansi\\ftnbj{\\fonttbl{\\f0 \\fswiss Arial;}...  ASK_A_DOCTOR   \n",
      "2  xxxx-xxxx\\f0 \\fswiss Arial;}}{\\colortbl ;\\red2...  ASK_A_DOCTOR   \n",
      "\n",
      "       sub_categories previous_appointment                ID  \n",
      "1  MEDICATION RELATED                   No  2015_5_6134_1001  \n",
      "2  MEDICATION RELATED                   No  2015_5_6135_1001  \n"
     ]
    }
   ],
   "source": [
    "# Read the Train data from Train.csv\n",
    "import pandas as pd\n",
    "datadf = pd.read_csv(\"TextClassification_Data.csv\")\n",
    "datadf_org = datadf\n",
    "print(datadf[1:3])"
   ]
  },
  {
   "cell_type": "code",
   "execution_count": 2,
   "metadata": {
    "collapsed": false,
    "scrolled": true
   },
   "outputs": [
    {
     "name": "stdout",
     "output_type": "stream",
     "text": [
      "1    Mom wants to know if the Focalin needs some do...\n",
      "Name: SUMMARY, dtype: object\n"
     ]
    }
   ],
   "source": [
    "print(datadf['SUMMARY'][1:2])"
   ]
  },
  {
   "cell_type": "code",
   "execution_count": 3,
   "metadata": {
    "collapsed": false
   },
   "outputs": [
    {
     "name": "stdout",
     "output_type": "stream",
     "text": [
      "1    {\\rtf1\\ansi\\ftnbj{\\fonttbl{\\f0 \\fswiss Arial;}...\n",
      "Name: DATA, dtype: object\n",
      "1    {\\rtf1\\ansi\\ftnbj{\\fonttbl{\\f0 \\fswiss Arial;}...\n",
      "Name: DATA, dtype: object\n"
     ]
    }
   ],
   "source": [
    "print(datadf['DATA'][1:2])\n",
    "print(datadf_org['DATA'][1:2])"
   ]
  },
  {
   "cell_type": "code",
   "execution_count": 4,
   "metadata": {
    "collapsed": false
   },
   "outputs": [],
   "source": [
    "#datadf.describe()"
   ]
  },
  {
   "cell_type": "code",
   "execution_count": 5,
   "metadata": {
    "collapsed": false
   },
   "outputs": [
    {
     "name": "stdout",
     "output_type": "stream",
     "text": [
      "57280\n",
      "57280\n"
     ]
    }
   ],
   "source": [
    "print(len(datadf))\n",
    "print(len(datadf_org))"
   ]
  },
  {
   "cell_type": "code",
   "execution_count": 19,
   "metadata": {
    "collapsed": true
   },
   "outputs": [],
   "source": [
    "datadf = datadf_org.copy()"
   ]
  },
  {
   "cell_type": "code",
   "execution_count": 20,
   "metadata": {
    "collapsed": false
   },
   "outputs": [
    {
     "name": "stdout",
     "output_type": "stream",
     "text": [
      "{\\s\\sArial;}}{\\s;\\s;\\s;\\s;\\s;\\s;}{\\sNormal;}{\\sDefault Paragraph Font;}}\\sPhone Note \\sCall patient back at:\\sCell Phonexxxx-xxxx\\sCALL FROM PATIENT\\sCaller Name: \\sCaller: \\sPatient\\sCall For: \\sNurse\\sOther \\sPatient is returning nurse call. He is unable to make appt without talking to fin service dept. However he needs medication and worried that he will have issue without medication. Please call patient to discuss. \\sCall Taken by: \\sxxxx-xxxx  May 26, 2015 5:09 PM\\sCall back\\sFollow-up Details: \\sPt returned phone call. Please call back to advise @xxxx-xxxx  May 27, 2015 8:46 AM\\sAdditional Follow-up Details: \\sWhat is the problem?  Is he without insurance?  He has been non-compliant with instructions to come in for a follow-up appt. and cannot have refills without one.\\sAdditional Follow-up by: \\sDavid xxxx-xxxx  May 27, 2015 8:54 AM\\sAdditional Follow-up Details: \\sRN spoke with pt and relayed the above to him.  he requested to speak with financial services.  RN transferred him to the business office.  RN requested Business office to call once matter has been completed.\\sFollow-up by: \\sHollie Saltis RN ,  May 27, 2015 11:54 AM\\sAdditional Follow-up Details: \\sOk.\\sAdditional Follow-up by: \\sDavid xxxx-xxxx  May 27, 2015 5:03 PM\\par\\plain\\fs20\\par\\cf3\\par\\plain\\fs20\\par}\n"
     ]
    },
    {
     "name": "stderr",
     "output_type": "stream",
     "text": [
      "C:\\Users\\harsh\\Anaconda2\\lib\\site-packages\\ipykernel\\__main__.py:3: SettingWithCopyWarning: \n",
      "A value is trying to be set on a copy of a slice from a DataFrame\n",
      "\n",
      "See the caveats in the documentation: http://pandas.pydata.org/pandas-docs/stable/indexing.html#indexing-view-versus-copy\n",
      "  app.launch_new_instance()\n"
     ]
    }
   ],
   "source": [
    "import re\n",
    "\n",
    "datadf['DATA'][0] = re.sub(r\"\\\\.*?\\s\", r\" \", datadf['DATA'][0])\n",
    "# datadf['DATA'][1] = re.sub(r\"\\\\.*\\s\", r\" ## \", datadf['DATA'][1])\n",
    "print(datadf['DATA'][0])"
   ]
  },
  {
   "cell_type": "code",
   "execution_count": 17,
   "metadata": {
    "collapsed": false
   },
   "outputs": [
    {
     "data": {
      "text/plain": [
       "'\\\\rtf1\\\\ansi\\\\ftnbj{\\\\fonttbl{\\\\f0 '"
      ]
     },
     "execution_count": 17,
     "metadata": {},
     "output_type": "execute_result"
    }
   ],
   "source": [
    "m = re.search(r\"\\\\.*?\\s\", datadf['DATA'][0])\n",
    "m.group(0)"
   ]
  }
 ],
 "metadata": {
  "anaconda-cloud": {},
  "kernelspec": {
   "display_name": "Python [conda root]",
   "language": "python",
   "name": "conda-root-py"
  },
  "language_info": {
   "codemirror_mode": {
    "name": "ipython",
    "version": 2
   },
   "file_extension": ".py",
   "mimetype": "text/x-python",
   "name": "python",
   "nbconvert_exporter": "python",
   "pygments_lexer": "ipython2",
   "version": "2.7.12"
  }
 },
 "nbformat": 4,
 "nbformat_minor": 1
}
