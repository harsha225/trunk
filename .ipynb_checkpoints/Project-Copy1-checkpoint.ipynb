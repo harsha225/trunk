{
 "cells": [
  {
   "cell_type": "code",
   "execution_count": 1,
   "metadata": {
    "collapsed": false,
    "scrolled": true
   },
   "outputs": [
    {
     "name": "stdout",
     "output_type": "stream",
     "text": [
      "                                              ptitle brand_title  \\\n",
      "1                         HP Spectrum @ Azerty                HP   \n",
      "2  DIGITAL BAY - Cover flip S View verde con vist...       OTHER   \n",
      "\n",
      "                                              target  \n",
      "1                     Computing_Computing Bags/Cases  \n",
      "2  Mobile & Tablets_Tablet and Smartphone Accesso...  \n"
     ]
    }
   ],
   "source": [
    "# Read the Train data from Train.csv\n",
    "import pandas as pd\n",
    "datadf = pd.read_csv(\"data/Train.csv\")\n",
    "print(datadf[1:3])"
   ]
  },
  {
   "cell_type": "code",
   "execution_count": 2,
   "metadata": {
    "collapsed": false
   },
   "outputs": [
    {
     "name": "stdout",
     "output_type": "stream",
     "text": [
      "                                              ptitle brand_title  \\\n",
      "1                               hp spectrum @ azerty          HP   \n",
      "2  digital bay - cover flip s view verde con vist...       OTHER   \n",
      "\n",
      "                                              target  \n",
      "1                     Computing_Computing Bags/Cases  \n",
      "2  Mobile & Tablets_Tablet and Smartphone Accesso...  \n"
     ]
    },
    {
     "data": {
      "text/plain": [
       "56493"
      ]
     },
     "execution_count": 2,
     "metadata": {},
     "output_type": "execute_result"
    }
   ],
   "source": [
    "# Data Pre-processing\n",
    "# change the titles to lowercase and trim the spaces.\n",
    "datadf.ptitle = datadf.ptitle.str.lower()\n",
    "datadf.ptitle = datadf.ptitle.str.strip()\n",
    "print(datadf[1:3])\n",
    "len(datadf)"
   ]
  },
  {
   "cell_type": "code",
   "execution_count": 3,
   "metadata": {
    "collapsed": false
   },
   "outputs": [],
   "source": [
    "#datadf = datadf.drop(datadf[(datadf.ptitle == '')].index)\n",
    "#datadf = datadf.drop(datadf[(datadf.ptitle == '?????????')].index)\n",
    "#datadf = datadf.drop(datadf[(datadf.ptitle == 'code')].index)\n",
    "#datadf = datadf.drop(datadf[(datadf.ptitle == 'also')].index)\n",
    "#len(datadf)"
   ]
  },
  {
   "cell_type": "code",
   "execution_count": 4,
   "metadata": {
    "collapsed": false,
    "scrolled": false
   },
   "outputs": [],
   "source": [
    "# store feature matrix and response vector for Train data\n",
    "X = datadf['ptitle'].tolist()\n",
    "y = datadf['target'].tolist()"
   ]
  },
  {
   "cell_type": "code",
   "execution_count": 5,
   "metadata": {
    "collapsed": false
   },
   "outputs": [],
   "source": [
    "# Read the test data from Test.csv\n",
    "testdatadf = pd.read_csv(\"data/Test.csv\")\n",
    "\n",
    "# store feature matrix and response vector for Test data\n",
    "X_test = testdatadf['ptitle'].str.lower()\n",
    "y_test = testdatadf['target'].tolist()"
   ]
  },
  {
   "cell_type": "code",
   "execution_count": 6,
   "metadata": {
    "collapsed": false,
    "scrolled": true
   },
   "outputs": [
    {
     "name": "stdout",
     "output_type": "stream",
     "text": [
      "(56493, 56493)\n",
      "(56493, 56493)\n"
     ]
    }
   ],
   "source": [
    "# check the lengths train and test data\n",
    "print(len(X), len(y))\n",
    "print(len(X_test), len(y_test))"
   ]
  },
  {
   "cell_type": "code",
   "execution_count": 7,
   "metadata": {
    "collapsed": false
   },
   "outputs": [
    {
     "data": {
      "text/plain": [
       "\"\\nfrom sklearn.feature_extraction.text import TfidfVectorizer\\nvectorizer = TfidfVectorizer(encoding='ISO-8859-1')\\n\""
      ]
     },
     "execution_count": 7,
     "metadata": {},
     "output_type": "execute_result"
    }
   ],
   "source": [
    "# Import and initialize TfidfVectorizer\n",
    "\"\"\"\n",
    "from sklearn.feature_extraction.text import TfidfVectorizer\n",
    "vectorizer = TfidfVectorizer(encoding='ISO-8859-1')\n",
    "\"\"\""
   ]
  },
  {
   "cell_type": "code",
   "execution_count": 8,
   "metadata": {
    "collapsed": true
   },
   "outputs": [],
   "source": [
    "# Import and initialize CountVectorizer\n",
    "from sklearn.feature_extraction.text import CountVectorizer\n",
    "vectorizer = CountVectorizer(encoding='ISO-8859-1')"
   ]
  },
  {
   "cell_type": "code",
   "execution_count": 9,
   "metadata": {
    "collapsed": false
   },
   "outputs": [
    {
     "name": "stdout",
     "output_type": "stream",
     "text": [
      "(56493, 56543)\n",
      "(56493, 56543)\n"
     ]
    }
   ],
   "source": [
    "# fit and transform the train data into a document-term matrix\n",
    "X_dtm = vectorizer.fit_transform(X) \n",
    "print(X_dtm.shape)\n",
    "\n",
    "# transform the test data into a document-term matrix\n",
    "X_test_dtm = vectorizer.transform(X_test)\n",
    "print(X_test_dtm.shape)"
   ]
  },
  {
   "cell_type": "code",
   "execution_count": 10,
   "metadata": {
    "collapsed": false
   },
   "outputs": [
    {
     "name": "stdout",
     "output_type": "stream",
     "text": [
      "Wall time: 706 ms\n"
     ]
    },
    {
     "data": {
      "text/plain": [
       "MultinomialNB(alpha=1.0, class_prior=None, fit_prior=True)"
      ]
     },
     "execution_count": 10,
     "metadata": {},
     "output_type": "execute_result"
    }
   ],
   "source": [
    "# Import and initiliaze MultinomialNB\n",
    "import numpy as np\n",
    "from sklearn.naive_bayes import MultinomialNB\n",
    "nb = MultinomialNB() \n",
    "\n",
    "# fit the train data in the model\n",
    "%time nb.fit(X_dtm, np.array(y))"
   ]
  },
  {
   "cell_type": "code",
   "execution_count": 11,
   "metadata": {
    "collapsed": false,
    "scrolled": false
   },
   "outputs": [
    {
     "name": "stdout",
     "output_type": "stream",
     "text": [
      "0.78815074434\n",
      "0.78815074434\n"
     ]
    }
   ],
   "source": [
    "from sklearn.metrics import accuracy_score, recall_score\n",
    "# predict the response from test data and print the metrics\n",
    "nb_test_predictions = nb.predict(X_test_dtm) \n",
    "print(accuracy_score(y_test, nb_test_predictions))\n",
    "print(recall_score(y_test, nb_test_predictions, average='weighted'))"
   ]
  },
  {
   "cell_type": "code",
   "execution_count": 12,
   "metadata": {
    "collapsed": false
   },
   "outputs": [
    {
     "data": {
      "text/plain": [
       "\"\\nnb_train_predictions = nb.predict(X_dtm)  \\nprint(accuracy_score(y, nb_train_predictions))\\nprint(recall_score(y, nb_train_predictions, average='weighted'))\\n\""
      ]
     },
     "execution_count": 12,
     "metadata": {},
     "output_type": "execute_result"
    }
   ],
   "source": [
    "\"\"\"\n",
    "nb_train_predictions = nb.predict(X_dtm)  \n",
    "print(accuracy_score(y, nb_train_predictions))\n",
    "print(recall_score(y, nb_train_predictions, average='weighted'))\n",
    "\"\"\""
   ]
  },
  {
   "cell_type": "code",
   "execution_count": 13,
   "metadata": {
    "collapsed": false,
    "scrolled": true
   },
   "outputs": [
    {
     "name": "stdout",
     "output_type": "stream",
     "text": [
      "Wall time: 1min 37s\n"
     ]
    },
    {
     "data": {
      "text/plain": [
       "LogisticRegression(C=1.0, class_weight=None, dual=False, fit_intercept=True,\n",
       "          intercept_scaling=1, max_iter=100, multi_class='ovr', n_jobs=1,\n",
       "          penalty='l2', random_state=None, solver='liblinear', tol=0.0001,\n",
       "          verbose=0, warm_start=False)"
      ]
     },
     "execution_count": 13,
     "metadata": {},
     "output_type": "execute_result"
    }
   ],
   "source": [
    "from sklearn.linear_model import LogisticRegression\n",
    "logReg = LogisticRegression()\n",
    "\n",
    "# fit the train data in the model\n",
    "%time logReg.fit(X_dtm, np.array(y))"
   ]
  },
  {
   "cell_type": "code",
   "execution_count": 14,
   "metadata": {
    "collapsed": false,
    "scrolled": true
   },
   "outputs": [
    {
     "name": "stdout",
     "output_type": "stream",
     "text": [
      "Wall time: 206 ms\n",
      "0.892358345282\n",
      "0.892358345282\n"
     ]
    }
   ],
   "source": [
    "# predict the response from test data and print the metrics\n",
    "%time logReg_test_predictions = logReg.predict(X_test_dtm)\n",
    "print(accuracy_score(y_test, logReg_test_predictions))\n",
    "print(recall_score(y_test, logReg_test_predictions, average='weighted'))"
   ]
  },
  {
   "cell_type": "code",
   "execution_count": 15,
   "metadata": {
    "collapsed": false,
    "scrolled": true
   },
   "outputs": [
    {
     "data": {
      "text/plain": [
       "\"\\n%time logReg_train_predictions = logReg.predict(X_dtm)\\nprint(accuracy_score(y, logReg_train_predictions))\\nprint(recall_score(y, logReg_train_predictions, average='weighted'))\\n\""
      ]
     },
     "execution_count": 15,
     "metadata": {},
     "output_type": "execute_result"
    }
   ],
   "source": [
    "# predict the response from train data and print the metrics\n",
    "\"\"\"\n",
    "%time logReg_train_predictions = logReg.predict(X_dtm)\n",
    "print(accuracy_score(y, logReg_train_predictions))\n",
    "print(recall_score(y, logReg_train_predictions, average='weighted'))\n",
    "\"\"\""
   ]
  },
  {
   "cell_type": "code",
   "execution_count": 16,
   "metadata": {
    "collapsed": false
   },
   "outputs": [
    {
     "name": "stdout",
     "output_type": "stream",
     "text": [
      "Computing_Cards and Kits\n",
      "Computing_Cards and Kits\n",
      "[ True False  True ...,  True  True  True]\n"
     ]
    }
   ],
   "source": [
    "print(y_test[0])\n",
    "print(logReg_test_predictions[0])\n",
    "print(y_test == logReg_test_predictions)"
   ]
  },
  {
   "cell_type": "code",
   "execution_count": 17,
   "metadata": {
    "collapsed": false
   },
   "outputs": [
    {
     "data": {
      "text/plain": [
       "\"\\nfrom sklearn.svm import SVC\\nsvc = SVC(C = 1, kernel = 'rbf')\\n%time svc.fit(X_dtm, np.array(y))\\n\""
      ]
     },
     "execution_count": 17,
     "metadata": {},
     "output_type": "execute_result"
    }
   ],
   "source": [
    "\"\"\"\n",
    "from sklearn.svm import SVC\n",
    "svc = SVC(C = 1, kernel = 'rbf')\n",
    "%time svc.fit(X_dtm, np.array(y))\n",
    "\"\"\""
   ]
  },
  {
   "cell_type": "code",
   "execution_count": 18,
   "metadata": {
    "collapsed": false
   },
   "outputs": [
    {
     "data": {
      "text/plain": [
       "\"\\n%time svc_test_predictions = svc.predict(X_test_dtm)\\nprint(accuracy_score(y_test, svc_test_predictions))\\nprint(recall_score(y_test, svc_test_predictions, average='weighted'))\\n\""
      ]
     },
     "execution_count": 18,
     "metadata": {},
     "output_type": "execute_result"
    }
   ],
   "source": [
    "\"\"\"\n",
    "%time svc_test_predictions = svc.predict(X_test_dtm)\n",
    "print(accuracy_score(y_test, svc_test_predictions))\n",
    "print(recall_score(y_test, svc_test_predictions, average='weighted'))\n",
    "\"\"\""
   ]
  },
  {
   "cell_type": "code",
   "execution_count": 20,
   "metadata": {
    "collapsed": false
   },
   "outputs": [
    {
     "name": "stdout",
     "output_type": "stream",
     "text": [
      "Wall time: 26.9 s\n",
      "Wall time: 68 ms\n",
      "0.826474076434\n",
      "0.826474076434\n"
     ]
    }
   ],
   "source": [
    "from sklearn.tree import DecisionTreeClassifier\n",
    "dt = DecisionTreeClassifier(criterion='gini', min_samples_split=5)\n",
    "\n",
    "# fit the train data in the model\n",
    "%time dt.fit(X_dtm, np.array(y))\n",
    "\n",
    "# predict the response from test data and print the metrics\n",
    "%time dt_test_predictions = dt.predict(X_test_dtm)\n",
    "print(accuracy_score(y_test, dt_test_predictions))\n",
    "print(recall_score(y_test, dt_test_predictions, average='weighted'))"
   ]
  },
  {
   "cell_type": "code",
   "execution_count": 21,
   "metadata": {
    "collapsed": false
   },
   "outputs": [
    {
     "name": "stdout",
     "output_type": "stream",
     "text": [
      "(10000, 56543)\n"
     ]
    }
   ],
   "source": [
    "# read evaluation data from EvalData.csv\n",
    "evaldatadf = pd.read_csv(\"data/EvalData.csv\")\n",
    "X_eval = evaldatadf['ptitle'].str.lower()\n",
    "X_eval_dtm = vectorizer.transform(X_eval)\n",
    "print(X_eval_dtm.shape)"
   ]
  },
  {
   "cell_type": "code",
   "execution_count": 22,
   "metadata": {
    "collapsed": false
   },
   "outputs": [
    {
     "name": "stdout",
     "output_type": "stream",
     "text": [
      "Wall time: 41 ms\n",
      "10000\n",
      "azuri booklet pink samsung galaxy s6 (gcazbooksag920p)\n",
      "10000\n",
      "Mobile & Tablets_Tablet and Smartphone Accessories\n"
     ]
    }
   ],
   "source": [
    "# from the above the metrics, LogisticRegression seems to be better.\n",
    "# predict the response from evaluation data\n",
    "%time logReg_eval_predictions = logReg.predict(X_eval_dtm)\n",
    "print(len(X_eval))\n",
    "print(X_eval[0])\n",
    "print(len(logReg_eval_predictions))\n",
    "print(logReg_eval_predictions.tolist()[0])\n",
    "\n",
    "# write the predictions to Predictions.csv file.\n",
    "import csv\n",
    "with open('data/Predictions.csv', 'wb') as f:\n",
    "    writer = csv.writer(f, delimiter=',')\n",
    "    writer.writerow(['ptitle', 'Predictions'])\n",
    "    writer.writerows(zip(X_eval,logReg_eval_predictions.tolist()))"
   ]
  }
 ],
 "metadata": {
  "anaconda-cloud": {},
  "kernelspec": {
   "display_name": "Python [conda root]",
   "language": "python",
   "name": "conda-root-py"
  },
  "language_info": {
   "codemirror_mode": {
    "name": "ipython",
    "version": 2
   },
   "file_extension": ".py",
   "mimetype": "text/x-python",
   "name": "python",
   "nbconvert_exporter": "python",
   "pygments_lexer": "ipython2",
   "version": "2.7.12"
  }
 },
 "nbformat": 4,
 "nbformat_minor": 1
}
